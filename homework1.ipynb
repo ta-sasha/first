{
 "cells": [
  {
   "cell_type": "code",
   "execution_count": 1,
   "metadata": {},
   "outputs": [
    {
     "name": "stdout",
     "output_type": "stream",
     "text": [
      "Фраза 1 длиннее фразы 2\n"
     ]
    }
   ],
   "source": [
    "#Задание 1\n",
    "phrase_1 = 'Насколько проще было бы писать программы, если бы не заказчики'\n",
    "phrase_2 = '640Кб должно хватить для любых задач. Билл Гейтс (по легенде)'\n",
    "\n",
    "if phrase_1 > phrase_2:\n",
    "    print('Фраза 1 длиннее фразы 2')\n",
    "else:\n",
    "    print('Фраза 2 длиннее фразы 1')"
   ]
  },
  {
   "cell_type": "code",
   "execution_count": 7,
   "metadata": {},
   "outputs": [
    {
     "name": "stdout",
     "output_type": "stream",
     "text": [
      "Фраза 2 длиннее фразы 1\n"
     ]
    }
   ],
   "source": [
    "#Задание 1\n",
    "phrase_1 = '640Кб должно хватить для любых задач. Билл Гейтс (по легенде)'\n",
    "phrase_2 = 'Насколько проще было бы писать программы, если бы не заказчики'\n",
    "\n",
    "if phrase_1 > phrase_2:\n",
    "    print('Фраза 1 длиннее фразы 2')\n",
    "else:\n",
    "    print('Фраза 2 длиннее фразы 1')"
   ]
  },
  {
   "cell_type": "code",
   "execution_count": 8,
   "metadata": {},
   "outputs": [
    {
     "name": "stdout",
     "output_type": "stream",
     "text": [
      "Фразы равной длины\n"
     ]
    }
   ],
   "source": [
    "#Задание 1\n",
    "phrase_1 = 'Насколько проще было бы писать программы, если бы не заказчики'\n",
    "phrase_2 = 'Насколько проще было бы писать программы, если бы не заказчики'\n",
    "\n",
    "if phrase_1 > phrase_2:\n",
    "    print('Фраза 1 длиннее фразы 2')\n",
    "elif phrase_1 < phrase_2:\n",
    "    print('Фраза 2 длиннее фразы 1')\n",
    "else: print('Фразы равной длины')"
   ]
  },
  {
   "cell_type": "code",
   "execution_count": 11,
   "metadata": {},
   "outputs": [
    {
     "name": "stdout",
     "output_type": "stream",
     "text": [
      "2020 - високосный год\n"
     ]
    }
   ],
   "source": [
    "#Задание 2\n",
    "year = 2020\n",
    "if year % 4 == 0:\n",
    "    print(year, '- високосный год')"
   ]
  },
  {
   "cell_type": "code",
   "execution_count": null,
   "metadata": {},
   "outputs": [],
   "source": [
    "#Задание 2\n",
    "year = 2019\n",
    "if year % 4 == 0:\n",
    "    print(year, '- високосный год')\n",
    "else:\n",
    "    print(year, '- обычный год')"
   ]
  },
  {
   "cell_type": "code",
   "execution_count": null,
   "metadata": {},
   "outputs": [],
   "source": [
    "Введите день:\n",
    "30\n",
    "\n",
    "Введите месяц:\n",
    "Август"
   ]
  },
  {
   "cell_type": "code",
   "execution_count": 4,
   "metadata": {},
   "outputs": [
    {
     "name": "stdout",
     "output_type": "stream",
     "text": [
      "Введите день:31\n",
      "Введите месяц:январь\n",
      "Водолей\n"
     ]
    }
   ],
   "source": [
    "#Задание 3\n",
    "\n",
    "day = int(input('Введите день:')) \n",
    "month = str(input('Введите месяц:'))\n",
    "if (day>=21 and month==('март')) or (day<=20 and month==('апрель')):\n",
    "    print('Овен')\n",
    "elif (day>=21 and month==('апрель')) or (day<=21 and month==('май')):\n",
    "    print('Телец')\n",
    "elif (day>=22 and month==('май')) or (day<=21 and month == ('июнь')):\n",
    "    print('Близнецы')\n",
    "elif (day>=22 and month==('июнь')) or (day<=22 and month==('июль')):\n",
    "    print('Рак')\n",
    "elif (day>=23 and month==('июль')) or (day<=23 and month==('август')):\n",
    "    print('Лев')\n",
    "elif (day>=24 and month==('август')) or (day<=23 and month==('сентябрь')):\n",
    "    print('Дева')\n",
    "elif (day>=24 and month==('сентябрь')) or (day<=23 and month==('октябрь')):\n",
    "    print('Весы')\n",
    "elif (day>=24 and month==('октябрь')) or (day<=22 and month==('ноября')):\n",
    "    print('Скорпион')\n",
    "elif (day>=23 and month==('ноябрь')) or (day<=22 and month==('декабрь')):\n",
    "    print('Стрелец')\n",
    "elif (day>=23 and month==('декабрь')) or (day<=20 and month==('январь')):\n",
    "    print('Козерог')\n",
    "elif (day>=21 and month==('январь')) or (day<=19 and month==('февраль')):\n",
    "    print('Водолей')\n",
    "elif (day>=20 and month==('февраль')) or (day<=20 and month==('март')):\n",
    "    print('Рыбы')\n",
    "else:\n",
    "    print('Что-то не так')"
   ]
  },
  {
   "cell_type": "code",
   "execution_count": 2,
   "metadata": {},
   "outputs": [
    {
     "name": "stdout",
     "output_type": "stream",
     "text": [
      "Упаковка для лыж\n"
     ]
    }
   ],
   "source": [
    "#Задание 4\n",
    "width = 10\n",
    "length = 205\n",
    "height = 5\n",
    "\n",
    "if width<15 and length<15 and height<15:\n",
    "    print('Коробка №1')\n",
    "elif 15<width<50 or 15<length<50 or 15<height<50:\n",
    "    print('Коробка №2')\n",
    "elif length>200:\n",
    "    print('Упаковка для лыж')\n",
    "else:\n",
    "    print('Стандартная коробка №3')"
   ]
  },
  {
   "cell_type": "code",
   "execution_count": 22,
   "metadata": {},
   "outputs": [
    {
     "name": "stdout",
     "output_type": "stream",
     "text": [
      "123456\n",
      "Обычный\n"
     ]
    }
   ],
   "source": [
    "#Задание 5\n",
    "s = str(input())\n",
    "sum1=int(s[0])+int(s[1])+int(s[2])\n",
    "sum2=int(s[3])+int(s[4])+int(s[5])\n",
    "if sum1==sum2:\n",
    "  print('Счастливый')\n",
    "else:\n",
    "  print('Обычный')"
   ]
  },
  {
   "cell_type": "code",
   "execution_count": 22,
   "metadata": {},
   "outputs": [
    {
     "name": "stdout",
     "output_type": "stream",
     "text": [
      "Введите тип фигуры:треугольник\n",
      "Введите длину стороны A:3\n",
      "Введите длину стороны B:4\n",
      "Введите длину стороны C:5\n",
      "Площадь треугольника:  60\n"
     ]
    }
   ],
   "source": [
    "#Задание 6\n",
    "figure = str(input('Введите тип фигуры:')) \n",
    "if figure == ('круг'):\n",
    "    circle = int(input('Введите радиус круга:'))\n",
    "    print('Площадь круга: ', 3.14*(circle**2))\n",
    "elif figure == ('треугольник'):\n",
    "    triangle1 = int(input('Введите длину стороны A:'))\n",
    "    triangle2 = int(input('Введите длину стороны B:'))\n",
    "    triangle3 = int(input('Введите длину стороны C:'))\n",
    "    print('Площадь треугольника: ', triangle1*triangle2*triangle3)\n",
    "else:\n",
    "             print('Конец программы')\n",
    "\n"
   ]
  },
  {
   "cell_type": "code",
   "execution_count": null,
   "metadata": {},
   "outputs": [],
   "source": []
  },
  {
   "cell_type": "code",
   "execution_count": null,
   "metadata": {},
   "outputs": [],
   "source": []
  }
 ],
 "metadata": {
  "kernelspec": {
   "display_name": "Python 3",
   "language": "python",
   "name": "python3"
  },
  "language_info": {
   "codemirror_mode": {
    "name": "ipython",
    "version": 3
   },
   "file_extension": ".py",
   "mimetype": "text/x-python",
   "name": "python",
   "nbconvert_exporter": "python",
   "pygments_lexer": "ipython3",
   "version": "3.8.5"
  }
 },
 "nbformat": 4,
 "nbformat_minor": 4
}
